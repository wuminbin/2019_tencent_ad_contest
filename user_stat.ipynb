{
 "cells": [
  {
   "cell_type": "code",
   "execution_count": null,
   "metadata": {},
   "outputs": [],
   "source": [
    "import pandas as pd\n",
    "from constants import DATA_DIR, HEADER_USER"
   ]
  },
  {
   "cell_type": "code",
   "execution_count": null,
   "metadata": {},
   "outputs": [],
   "source": [
    "# 都读成str类型易于处理\n",
    "user = pd.read_csv(DATA_DIR + 'user_data', sep='\\t', header=None, names=HEADER_USER,\n",
    "                   index_col=False,dtype=str, quotechar='\\t')\n",
    "user.head()"
   ]
  },
  {
   "cell_type": "code",
   "execution_count": null,
   "metadata": {},
   "outputs": [],
   "source": [
    "user[user.area.str.contains('7892')][['uid', 'area']].head()"
   ]
  },
  {
   "cell_type": "code",
   "execution_count": null,
   "metadata": {},
   "outputs": [],
   "source": [
    "from collections import defaultdict\n",
    "user_single_split = {'age': defaultdict(set), 'gender': defaultdict(set), 'education': defaultdict(set),\n",
    "                     'consuptionAbility': defaultdict(set), 'os': defaultdict(set), 'connectionType': defaultdict(set)}\n",
    "user_multi_split = {'area': defaultdict(set), 'status': defaultdict(set), 'work': defaultdict(set), 'behavior': defaultdict(set)}"
   ]
  },
  {
   "cell_type": "code",
   "execution_count": null,
   "metadata": {},
   "outputs": [],
   "source": [
    "import cPickle\n",
    "single_value_cols = list(user_single_split.keys())\n",
    "multi_value_cols = list(user_multi_split.keys())"
   ]
  },
  {
   "cell_type": "code",
   "execution_count": null,
   "metadata": {},
   "outputs": [],
   "source": [
    "all_multi_value_dict = {k: set() for k in multi_value_cols}\n",
    "for col in multi_value_cols:\n",
    "    for s in user[col]:\n",
    "        all_multi_value_dict[col].update(s.split(','))"
   ]
  },
  {
   "cell_type": "code",
   "execution_count": null,
   "metadata": {
    "scrolled": true
   },
   "outputs": [],
   "source": [
    "for k, v in all_multi_value_dict.items():\n",
    "    print(k, len(v))"
   ]
  },
  {
   "cell_type": "code",
   "execution_count": null,
   "metadata": {},
   "outputs": [],
   "source": [
    "with open(DATA_DIR + 'all_multi_value_dict.pkl', 'wb') as f:\n",
    "    cPickle.dump(all_multi_value_dict,f)"
   ]
  },
  {
   "cell_type": "code",
   "execution_count": null,
   "metadata": {},
   "outputs": [],
   "source": [
    "all_single_value_dict = {k: set() for k in single_value_cols}\n",
    "for col in single_value_cols:\n",
    "    all_single_value_dict[col].update(user[col].drop_duplicates())\n",
    "for k, v in all_single_value_dict.items():\n",
    "    print(k, len(v))"
   ]
  },
  {
   "cell_type": "code",
   "execution_count": null,
   "metadata": {},
   "outputs": [],
   "source": [
    "for k, v in all_multi_value_dict.items():\n",
    "    print(k, max((int(x) for x in v if x)))\n",
    "\n",
    "for k, v in all_single_value_dict.items():\n",
    "    print(k, max((int(x) for x in v)))"
   ]
  },
  {
   "cell_type": "code",
   "execution_count": null,
   "metadata": {},
   "outputs": [],
   "source": [
    "for k in all_single_value_dict:\n",
    "    print(k, user[k].astype(int).max())"
   ]
  },
  {
   "cell_type": "code",
   "execution_count": null,
   "metadata": {
    "scrolled": true
   },
   "outputs": [],
   "source": [
    "for k, v in all_multi_value_dict.items():\n",
    "    if '0' not in v:\n",
    "        print(k)\n",
    "\n",
    "for k, v in all_single_value_dict.items():\n",
    "    if '0' not in v:\n",
    "        print(k)"
   ]
  },
  {
   "cell_type": "code",
   "execution_count": null,
   "metadata": {},
   "outputs": [],
   "source": [
    "print(len(user))\n",
    "print(len(user.uid.drop_duplicates()))"
   ]
  },
  {
   "cell_type": "code",
   "execution_count": null,
   "metadata": {},
   "outputs": [],
   "source": [
    "for col in all_multi_value_dict:\n",
    "    # 前后加入逗号方便判断是否含有某个id\n",
    "    user[col] = ',' + user[col] + ','\n",
    "user.head()"
   ]
  },
  {
   "cell_type": "code",
   "execution_count": null,
   "metadata": {},
   "outputs": [],
   "source": []
  },
  {
   "cell_type": "code",
   "execution_count": null,
   "metadata": {},
   "outputs": [],
   "source": [
    "raise Exception('no allow to exec the flowings')"
   ]
  },
  {
   "cell_type": "code",
   "execution_count": null,
   "metadata": {
    "scrolled": true
   },
   "outputs": [],
   "source": [
    "multi_user_fea_cnt = {'area': {}, 'status': {}, 'work': {}, 'behavior': {}}\n",
    "for col, all_value in all_multi_value_dict.items():\n",
    "    for value in all_value:\n",
    "        cnt = len(user[user[col].str.contains(',' + value + ',')])\n",
    "        multi_user_fea_cnt[col][value] = cnt\n",
    "\n",
    "for k in multi_user_fea_cnt['area']:\n",
    "    print(k, type(k), multi_user_fea_cnt['area'][k])\n",
    "    break"
   ]
  },
  {
   "cell_type": "code",
   "execution_count": null,
   "metadata": {},
   "outputs": [],
   "source": [
    "# 上一步骤太耗时\n",
    "multi_user_fea_cnt"
   ]
  },
  {
   "cell_type": "code",
   "execution_count": null,
   "metadata": {},
   "outputs": [],
   "source": [
    "with open(DATA_DIR + 'multi_user_fea_cnt_part.pkl', 'wb') as f:\n",
    "    cPickle.dump(multi_user_fea_cnt, f)"
   ]
  },
  {
   "cell_type": "code",
   "execution_count": null,
   "metadata": {},
   "outputs": [],
   "source": []
  },
  {
   "cell_type": "code",
   "execution_count": null,
   "metadata": {},
   "outputs": [],
   "source": [
    "with open(DATA_DIR + 'user_single_split.pkl', 'wb') as f:  # 空字典，没有先赋值。。。\n",
    "    cPickle.dump(user_single_split,f)"
   ]
  },
  {
   "cell_type": "code",
   "execution_count": null,
   "metadata": {},
   "outputs": [],
   "source": [
    "for k in user_single_split['age']:\n",
    "    print(k, user_single_split['age'][k])\n",
    "    break"
   ]
  },
  {
   "cell_type": "code",
   "execution_count": null,
   "metadata": {},
   "outputs": [],
   "source": [
    "all_user = set(user.uid)\n",
    "with open(DATA_DIR + 'all_user.pkl', 'wb') as f:\n",
    "    cPickle.dump(all_user,f)"
   ]
  },
  {
   "cell_type": "code",
   "execution_count": null,
   "metadata": {},
   "outputs": [],
   "source": [
    "import sys\n",
    "sys.exit()\n",
    "# 以下内存溢出"
   ]
  },
  {
   "cell_type": "code",
   "execution_count": null,
   "metadata": {
    "scrolled": true
   },
   "outputs": [],
   "source": [
    "for col in multi_value_cols:\n",
    "    for tup in user[['uid', col]].itertuples(index=False):  # 默认index为True，作为tup[0]\n",
    "        for sub_key in tup[1].strip(',').split(','):\n",
    "            user_multi_split[col][sub_key].add(tup.uid)"
   ]
  },
  {
   "cell_type": "code",
   "execution_count": null,
   "metadata": {},
   "outputs": [],
   "source": [
    "for k in user_multi_split['area']:\n",
    "    print(k, type(k))\n",
    "    break\n",
    "user_multi_split['area'][k]"
   ]
  },
  {
   "cell_type": "code",
   "execution_count": null,
   "metadata": {},
   "outputs": [],
   "source": [
    "tup"
   ]
  },
  {
   "cell_type": "code",
   "execution_count": null,
   "metadata": {},
   "outputs": [],
   "source": [
    "with open(DATA_DIR + 'user_multi_split.pkl', 'wb') as f:\n",
    "    cPickle.dump(user_multi_split,f)"
   ]
  },
  {
   "cell_type": "code",
   "execution_count": null,
   "metadata": {},
   "outputs": [],
   "source": []
  },
  {
   "cell_type": "code",
   "execution_count": null,
   "metadata": {},
   "outputs": [],
   "source": [
    "for k, v in all_multi_value_dict.items():\n",
    "    print(k, max((int(x) for x in v)))  # 原表有空值？\n",
    "\n",
    "for k, v in all_single_value_dict.items():\n",
    "    print(k, max((int(x) for x in v)))"
   ]
  }
 ],
 "metadata": {
  "kernelspec": {
   "display_name": "Python 2",
   "language": "python",
   "name": "python2"
  },
  "language_info": {
   "codemirror_mode": {
    "name": "ipython",
    "version": 2
   },
   "file_extension": ".py",
   "mimetype": "text/x-python",
   "name": "python",
   "nbconvert_exporter": "python",
   "pygments_lexer": "ipython2",
   "version": "2.7.14"
  }
 },
 "nbformat": 4,
 "nbformat_minor": 2
}
