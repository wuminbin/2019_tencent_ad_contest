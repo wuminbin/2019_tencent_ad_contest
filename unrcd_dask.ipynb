{
 "cells": [
  {
   "cell_type": "code",
   "execution_count": 2,
   "metadata": {},
   "outputs": [],
   "source": [
    "import dask.dataframe as dd\n",
    "from constants import DATA_DIR, HEADER_TOTAL_EXPOSURE"
   ]
  },
  {
   "cell_type": "code",
   "execution_count": 3,
   "metadata": {},
   "outputs": [],
   "source": [
    "total_exposure = (dd.read_csv(DATA_DIR + 'totalExposureLog.out', sep='\\t', names=HEADER_TOTAL_EXPOSURE,\n",
    "                              blocksize=None,\n",
    "                             header=None,dtype=str, quotechar='\\t',\n",
    "                             usecols=['req_id', 'req_ts', 'ad_loc_id', 'uid', 'ad_id', 'expo_size', 'bid']  # Keyword 'index' not supported dd.read_csv(...).set_index('my-index') instead\n",
    "                             )\n",
    "                  .drop_duplicates(subset=['req_id', 'ad_loc_id', 'ad_id'])\n",
    "                 )"
   ]
  },
  {
   "cell_type": "code",
   "execution_count": null,
   "metadata": {},
   "outputs": [],
   "source": [
    "print(len(total_exposure))  # so long...\n",
    "total_exposure.head()"
   ]
  },
  {
   "cell_type": "code",
   "execution_count": null,
   "metadata": {},
   "outputs": [],
   "source": [
    "total_exposure['date'] = pd.to_datetime(total_exposure.req_ts, unit='s')"
   ]
  },
  {
   "cell_type": "code",
   "execution_count": null,
   "metadata": {},
   "outputs": [],
   "source": [
    "ad_daily_exposure = total_exposure[['ad_id', 'date', 'req_id']].groupby(['ad_id', 'date'])"
   ]
  }
 ],
 "metadata": {
  "kernelspec": {
   "display_name": "Python 2",
   "language": "python",
   "name": "python2"
  },
  "language_info": {
   "codemirror_mode": {
    "name": "ipython",
    "version": 2
   },
   "file_extension": ".py",
   "mimetype": "text/x-python",
   "name": "python",
   "nbconvert_exporter": "python",
   "pygments_lexer": "ipython2",
   "version": "2.7.14"
  }
 },
 "nbformat": 4,
 "nbformat_minor": 2
}
