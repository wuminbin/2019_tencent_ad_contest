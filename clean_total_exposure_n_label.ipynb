{
 "cells": [
  {
   "cell_type": "code",
   "execution_count": 1,
   "metadata": {},
   "outputs": [],
   "source": [
    "import pandas as pd\n",
    "from constants import DATA_DIR, HEADER_TOTAL_EXPOSURE\n",
    "# DATA_DIR = 'testA/'"
   ]
  },
  {
   "cell_type": "code",
   "execution_count": 2,
   "metadata": {},
   "outputs": [],
   "source": [
    "total_exposure = pd.read_csv(DATA_DIR + 'totalExposureLog.out', sep='\\t', names=HEADER_TOTAL_EXPOSURE,\n",
    "                             header=None, index_col=False,dtype=str, quotechar='\\t',\n",
    "                             usecols=['req_id', 'req_ts', 'ad_loc_id', 'uid', 'ad_id', 'expo_size'])"
   ]
  },
  {
   "cell_type": "code",
   "execution_count": 3,
   "metadata": {},
   "outputs": [
    {
     "name": "stdout",
     "output_type": "stream",
     "text": [
      "102386695\n",
      "101507776\n"
     ]
    },
    {
     "data": {
      "text/html": [
       "<div>\n",
       "<style scoped>\n",
       "    .dataframe tbody tr th:only-of-type {\n",
       "        vertical-align: middle;\n",
       "    }\n",
       "\n",
       "    .dataframe tbody tr th {\n",
       "        vertical-align: top;\n",
       "    }\n",
       "\n",
       "    .dataframe thead th {\n",
       "        text-align: right;\n",
       "    }\n",
       "</style>\n",
       "<table border=\"1\" class=\"dataframe\">\n",
       "  <thead>\n",
       "    <tr style=\"text-align: right;\">\n",
       "      <th></th>\n",
       "      <th>req_id</th>\n",
       "      <th>req_ts</th>\n",
       "      <th>ad_loc_id</th>\n",
       "      <th>uid</th>\n",
       "      <th>ad_id</th>\n",
       "      <th>expo_size</th>\n",
       "    </tr>\n",
       "  </thead>\n",
       "  <tbody>\n",
       "    <tr>\n",
       "      <th>0</th>\n",
       "      <td>53991770</td>\n",
       "      <td>1550409746</td>\n",
       "      <td>94</td>\n",
       "      <td>1160618</td>\n",
       "      <td>451525</td>\n",
       "      <td>50</td>\n",
       "    </tr>\n",
       "    <tr>\n",
       "      <th>1</th>\n",
       "      <td>25942318</td>\n",
       "      <td>1550370892</td>\n",
       "      <td>79</td>\n",
       "      <td>203814</td>\n",
       "      <td>214797</td>\n",
       "      <td>64</td>\n",
       "    </tr>\n",
       "    <tr>\n",
       "      <th>2</th>\n",
       "      <td>66156247</td>\n",
       "      <td>1550416600</td>\n",
       "      <td>18</td>\n",
       "      <td>808543</td>\n",
       "      <td>92253</td>\n",
       "      <td>40</td>\n",
       "    </tr>\n",
       "    <tr>\n",
       "      <th>3</th>\n",
       "      <td>5935886</td>\n",
       "      <td>1550365898</td>\n",
       "      <td>198</td>\n",
       "      <td>7270</td>\n",
       "      <td>160082</td>\n",
       "      <td>64</td>\n",
       "    </tr>\n",
       "    <tr>\n",
       "      <th>4</th>\n",
       "      <td>11624425</td>\n",
       "      <td>1550361159</td>\n",
       "      <td>168</td>\n",
       "      <td>852707</td>\n",
       "      <td>253902</td>\n",
       "      <td>64</td>\n",
       "    </tr>\n",
       "  </tbody>\n",
       "</table>\n",
       "</div>"
      ],
      "text/plain": [
       "     req_id      req_ts ad_loc_id      uid   ad_id expo_size\n",
       "0  53991770  1550409746        94  1160618  451525        50\n",
       "1  25942318  1550370892        79   203814  214797        64\n",
       "2  66156247  1550416600        18   808543   92253        40\n",
       "3   5935886  1550365898       198     7270  160082        64\n",
       "4  11624425  1550361159       168   852707  253902        64"
      ]
     },
     "execution_count": 3,
     "metadata": {},
     "output_type": "execute_result"
    }
   ],
   "source": [
    "#  如果是同一请求同一广告位同一广告多次曝光建议去重\n",
    "print(len(total_exposure))\n",
    "total_exposure.drop_duplicates(subset=['req_id', 'ad_loc_id', 'ad_id'], inplace=True)\n",
    "print(len(total_exposure))\n",
    "total_exposure.head()"
   ]
  },
  {
   "cell_type": "code",
   "execution_count": 4,
   "metadata": {},
   "outputs": [],
   "source": [
    "from datetime import timedelta\n",
    "utc2bj = timedelta(hours=8)\n",
    "total_exposure['date'] = (pd.to_datetime(total_exposure.req_ts, unit='s') + utc2bj).dt.strftime('%Y%m%d').astype(int)\n",
    "total_exposure.drop('req_ts', axis=1, inplace=True)"
   ]
  },
  {
   "cell_type": "code",
   "execution_count": 5,
   "metadata": {},
   "outputs": [],
   "source": [
    "ad_daily_exposure = total_exposure[['ad_id', 'date', 'req_id']].groupby(['ad_id', 'date']).agg('count')"
   ]
  },
  {
   "cell_type": "code",
   "execution_count": 6,
   "metadata": {},
   "outputs": [],
   "source": [
    "ad_daily_exposure.rename(columns={'req_id': 'cnt'}, inplace=True)"
   ]
  },
  {
   "cell_type": "code",
   "execution_count": 7,
   "metadata": {},
   "outputs": [
    {
     "name": "stdout",
     "output_type": "stream",
     "text": [
      "1913516\n",
      "1913516\n"
     ]
    }
   ],
   "source": [
    "print(len(ad_daily_exposure))\n",
    "del(total_exposure)\n",
    "print(len(ad_daily_exposure))"
   ]
  },
  {
   "cell_type": "code",
   "execution_count": 8,
   "metadata": {},
   "outputs": [
    {
     "data": {
      "text/html": [
       "<div>\n",
       "<style scoped>\n",
       "    .dataframe tbody tr th:only-of-type {\n",
       "        vertical-align: middle;\n",
       "    }\n",
       "\n",
       "    .dataframe tbody tr th {\n",
       "        vertical-align: top;\n",
       "    }\n",
       "\n",
       "    .dataframe thead th {\n",
       "        text-align: right;\n",
       "    }\n",
       "</style>\n",
       "<table border=\"1\" class=\"dataframe\">\n",
       "  <thead>\n",
       "    <tr style=\"text-align: right;\">\n",
       "      <th></th>\n",
       "      <th>cnt</th>\n",
       "      <th>ad_id</th>\n",
       "      <th>date</th>\n",
       "    </tr>\n",
       "  </thead>\n",
       "  <tbody>\n",
       "    <tr>\n",
       "      <th>0</th>\n",
       "      <td>7</td>\n",
       "      <td>1</td>\n",
       "      <td>20190220</td>\n",
       "    </tr>\n",
       "    <tr>\n",
       "      <th>1</th>\n",
       "      <td>8</td>\n",
       "      <td>1</td>\n",
       "      <td>20190221</td>\n",
       "    </tr>\n",
       "    <tr>\n",
       "      <th>2</th>\n",
       "      <td>12</td>\n",
       "      <td>1</td>\n",
       "      <td>20190222</td>\n",
       "    </tr>\n",
       "    <tr>\n",
       "      <th>3</th>\n",
       "      <td>10</td>\n",
       "      <td>100</td>\n",
       "      <td>20190224</td>\n",
       "    </tr>\n",
       "    <tr>\n",
       "      <th>4</th>\n",
       "      <td>35</td>\n",
       "      <td>100</td>\n",
       "      <td>20190225</td>\n",
       "    </tr>\n",
       "  </tbody>\n",
       "</table>\n",
       "</div>"
      ],
      "text/plain": [
       "   cnt ad_id      date\n",
       "0    7     1  20190220\n",
       "1    8     1  20190221\n",
       "2   12     1  20190222\n",
       "3   10   100  20190224\n",
       "4   35   100  20190225"
      ]
     },
     "execution_count": 8,
     "metadata": {},
     "output_type": "execute_result"
    }
   ],
   "source": [
    "ad_daily_exposure[['ad_id', 'date']] = ad_daily_exposure.index.to_frame()\n",
    "ad_daily_exposure.reset_index(drop=True, inplace=True)\n",
    "ad_daily_exposure.head()"
   ]
  },
  {
   "cell_type": "code",
   "execution_count": 9,
   "metadata": {},
   "outputs": [],
   "source": [
    "ad_daily_exposure[['ad_id', 'date', 'cnt']].to_csv(DATA_DIR + 'label.tsv', sep='\\t', index=False)"
   ]
  },
  {
   "cell_type": "code",
   "execution_count": null,
   "metadata": {},
   "outputs": [],
   "source": []
  }
 ],
 "metadata": {
  "kernelspec": {
   "display_name": "Python 2",
   "language": "python",
   "name": "python2"
  },
  "language_info": {
   "codemirror_mode": {
    "name": "ipython",
    "version": 2
   },
   "file_extension": ".py",
   "mimetype": "text/x-python",
   "name": "python",
   "nbconvert_exporter": "python",
   "pygments_lexer": "ipython2",
   "version": "2.7.14"
  }
 },
 "nbformat": 4,
 "nbformat_minor": 2
}
