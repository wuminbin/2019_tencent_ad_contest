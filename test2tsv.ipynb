{
 "cells": [
  {
   "cell_type": "code",
   "execution_count": 1,
   "metadata": {},
   "outputs": [],
   "source": [
    "# import pandas as pd\n",
    "# from constants import DATA_DIR, HEADER_TEST_SAMPLE\n",
    "# test_df = pd.read_table(DATA_DIR + 'test_sample.dat', sep='\\t', names=HEADER_TEST_SAMPLE)\n",
    "# test_df.to_csv(DATA_DIR + 'test_sample.tsv', sep='\\t', index=False)"
   ]
  },
  {
   "cell_type": "code",
   "execution_count": 1,
   "metadata": {},
   "outputs": [],
   "source": [
    "import pandas as pd\n",
    "from constants import DATA_DIR, HEADER_TEST_SAMPLE\n",
    "test_df = pd.read_table(DATA_DIR + 'Btest_sample_new.dat', sep='\\t', names=HEADER_TEST_SAMPLE)\n",
    "test_df.to_csv(DATA_DIR + 'Btest_sample_new.tsv', sep='\\t', index=False)"
   ]
  }
 ],
 "metadata": {
  "kernelspec": {
   "display_name": "Python 2",
   "language": "python",
   "name": "python2"
  },
  "language_info": {
   "codemirror_mode": {
    "name": "ipython",
    "version": 2
   },
   "file_extension": ".py",
   "mimetype": "text/x-python",
   "name": "python",
   "nbconvert_exporter": "python",
   "pygments_lexer": "ipython2",
   "version": "2.7.14"
  }
 },
 "nbformat": 4,
 "nbformat_minor": 2
}
