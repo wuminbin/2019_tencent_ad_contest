{
 "cells": [
  {
   "cell_type": "code",
   "execution_count": 3,
   "metadata": {},
   "outputs": [],
   "source": [
    "import xlearn as xl\n",
    "from constants import DATA_DIR\n",
    "ffm_model = xl.create_fm()\n",
    "# ffm_model.setOnDisk()\n",
    "ffm_model.setTrain(DATA_DIR + 'data.libsvm')\n",
    "# ffm_model.setValidate(DATA_DIR + 'val.libsvm')\n",
    "# ffm_model.setPreModel('ffm_model.out')\n",
    "param = {'task':'reg', 'lr':0.2, 'lambda':0.02, 'fold':3, 'epoch':30, 'metric': 'rmse'}  # data.libsvm Average mse_loss: 47896.156250\n",
    "ffm_model.cv(param)"
   ]
  },
  {
   "cell_type": "code",
   "execution_count": 2,
   "metadata": {},
   "outputs": [],
   "source": [
    "# Train model\n",
    "ffm_model.fit(param, \"ffm_model.out\")"
   ]
  },
  {
   "cell_type": "code",
   "execution_count": 3,
   "metadata": {},
   "outputs": [],
   "source": [
    "ffm_model.setTest(DATA_DIR + \"test.libsvm\")\n",
    "ffm_model.predict(\"ffm_model.out\", \"ffm_model.txt\")"
   ]
  },
  {
   "cell_type": "code",
   "execution_count": 4,
   "metadata": {},
   "outputs": [
    {
     "data": {
      "text/html": [
       "<div>\n",
       "<style scoped>\n",
       "    .dataframe tbody tr th:only-of-type {\n",
       "        vertical-align: middle;\n",
       "    }\n",
       "\n",
       "    .dataframe tbody tr th {\n",
       "        vertical-align: top;\n",
       "    }\n",
       "\n",
       "    .dataframe thead th {\n",
       "        text-align: right;\n",
       "    }\n",
       "</style>\n",
       "<table border=\"1\" class=\"dataframe\">\n",
       "  <thead>\n",
       "    <tr style=\"text-align: right;\">\n",
       "      <th></th>\n",
       "      <th>id</th>\n",
       "      <th>y_pre</th>\n",
       "    </tr>\n",
       "  </thead>\n",
       "  <tbody>\n",
       "    <tr>\n",
       "      <th>0</th>\n",
       "      <td>1</td>\n",
       "      <td>46.70820</td>\n",
       "    </tr>\n",
       "    <tr>\n",
       "      <th>1</th>\n",
       "      <td>2</td>\n",
       "      <td>91.43400</td>\n",
       "    </tr>\n",
       "    <tr>\n",
       "      <th>2</th>\n",
       "      <td>3</td>\n",
       "      <td>6.87181</td>\n",
       "    </tr>\n",
       "    <tr>\n",
       "      <th>3</th>\n",
       "      <td>4</td>\n",
       "      <td>-83.93500</td>\n",
       "    </tr>\n",
       "    <tr>\n",
       "      <th>4</th>\n",
       "      <td>5</td>\n",
       "      <td>-37.06930</td>\n",
       "    </tr>\n",
       "  </tbody>\n",
       "</table>\n",
       "</div>"
      ],
      "text/plain": [
       "   id     y_pre\n",
       "0   1  46.70820\n",
       "1   2  91.43400\n",
       "2   3   6.87181\n",
       "3   4 -83.93500\n",
       "4   5 -37.06930"
      ]
     },
     "execution_count": 4,
     "metadata": {},
     "output_type": "execute_result"
    }
   ],
   "source": [
    "from constants import HEADER_TEST_SAMPLE\n",
    "import pandas as pd\n",
    "test_sample = pd.read_csv(DATA_DIR + 'test_sample.dat', sep='\\t', header=None, names=HEADER_TEST_SAMPLE,\n",
    "                         usecols=['id'])\n",
    "y_out = pd.read_csv('ffm_model.txt', header=None, names=['y_pre'])\n",
    "test_sample['y_pre'] = y_out.y_pre\n",
    "test_sample.head()"
   ]
  },
  {
   "cell_type": "code",
   "execution_count": 5,
   "metadata": {},
   "outputs": [],
   "source": [
    "test_sample.to_csv(DATA_DIR + 'test_submission_origin.csv', header=None, index=None)"
   ]
  }
 ],
 "metadata": {
  "kernelspec": {
   "display_name": "Python 2",
   "language": "python",
   "name": "python2"
  },
  "language_info": {
   "codemirror_mode": {
    "name": "ipython",
    "version": 2
   },
   "file_extension": ".py",
   "mimetype": "text/x-python",
   "name": "python",
   "nbconvert_exporter": "python",
   "pygments_lexer": "ipython2",
   "version": "2.7.14"
  }
 },
 "nbformat": 4,
 "nbformat_minor": 2
}
