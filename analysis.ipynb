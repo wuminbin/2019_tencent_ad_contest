{
 "cells": [
  {
   "cell_type": "code",
   "execution_count": 1,
   "metadata": {},
   "outputs": [],
   "source": [
    "import pandas as pd\n",
    "import seaborn as sns\n",
    "from constants import DATA_DIR"
   ]
  },
  {
   "cell_type": "code",
   "execution_count": 3,
   "metadata": {},
   "outputs": [
    {
     "data": {
      "text/html": [
       "<div>\n",
       "<style scoped>\n",
       "    .dataframe tbody tr th:only-of-type {\n",
       "        vertical-align: middle;\n",
       "    }\n",
       "\n",
       "    .dataframe tbody tr th {\n",
       "        vertical-align: top;\n",
       "    }\n",
       "\n",
       "    .dataframe thead th {\n",
       "        text-align: right;\n",
       "    }\n",
       "</style>\n",
       "<table border=\"1\" class=\"dataframe\">\n",
       "  <thead>\n",
       "    <tr style=\"text-align: right;\">\n",
       "      <th></th>\n",
       "      <th>ad_id</th>\n",
       "      <th>next_day</th>\n",
       "      <th>label</th>\n",
       "      <th>account_id</th>\n",
       "      <th>altered</th>\n",
       "      <th>bid</th>\n",
       "      <th>create_ts</th>\n",
       "      <th>crow</th>\n",
       "      <th>exposure_time</th>\n",
       "      <th>industry_id</th>\n",
       "      <th>op_date</th>\n",
       "      <th>op_day</th>\n",
       "      <th>product_class</th>\n",
       "      <th>product_id</th>\n",
       "      <th>sizes</th>\n",
       "    </tr>\n",
       "  </thead>\n",
       "  <tbody>\n",
       "    <tr>\n",
       "      <th>0</th>\n",
       "      <td>10003</td>\n",
       "      <td>20190222</td>\n",
       "      <td>2</td>\n",
       "      <td>6539</td>\n",
       "      <td>0</td>\n",
       "      <td>31</td>\n",
       "      <td>1547593423</td>\n",
       "      <td>area:7572</td>\n",
       "      <td>281474976694272,281474976694272,28147497669427...</td>\n",
       "      <td>186</td>\n",
       "      <td>2019-02-21</td>\n",
       "      <td>20190115</td>\n",
       "      <td>13</td>\n",
       "      <td>9446</td>\n",
       "      <td>30</td>\n",
       "    </tr>\n",
       "    <tr>\n",
       "      <th>1</th>\n",
       "      <td>100046</td>\n",
       "      <td>20190309</td>\n",
       "      <td>2</td>\n",
       "      <td>22818</td>\n",
       "      <td>0</td>\n",
       "      <td>150</td>\n",
       "      <td>1546206412</td>\n",
       "      <td>area:3269</td>\n",
       "      <td>281474976694272,281474976694272,28147497669427...</td>\n",
       "      <td>17</td>\n",
       "      <td>2019-03-08</td>\n",
       "      <td>20181230</td>\n",
       "      <td>13</td>\n",
       "      <td>20433</td>\n",
       "      <td>34</td>\n",
       "    </tr>\n",
       "    <tr>\n",
       "      <th>2</th>\n",
       "      <td>100046</td>\n",
       "      <td>20190310</td>\n",
       "      <td>1</td>\n",
       "      <td>22818</td>\n",
       "      <td>0</td>\n",
       "      <td>150</td>\n",
       "      <td>1546206412</td>\n",
       "      <td>area:3269</td>\n",
       "      <td>281474976694272,281474976694272,28147497669427...</td>\n",
       "      <td>17</td>\n",
       "      <td>2019-03-09</td>\n",
       "      <td>20181230</td>\n",
       "      <td>13</td>\n",
       "      <td>20433</td>\n",
       "      <td>34</td>\n",
       "    </tr>\n",
       "    <tr>\n",
       "      <th>3</th>\n",
       "      <td>100046</td>\n",
       "      <td>20190313</td>\n",
       "      <td>1</td>\n",
       "      <td>22818</td>\n",
       "      <td>0</td>\n",
       "      <td>150</td>\n",
       "      <td>1546206412</td>\n",
       "      <td>area:3269</td>\n",
       "      <td>281474976694272,281474976694272,28147497669427...</td>\n",
       "      <td>17</td>\n",
       "      <td>2019-03-12</td>\n",
       "      <td>20181230</td>\n",
       "      <td>13</td>\n",
       "      <td>20433</td>\n",
       "      <td>34</td>\n",
       "    </tr>\n",
       "    <tr>\n",
       "      <th>4</th>\n",
       "      <td>100091</td>\n",
       "      <td>20190219</td>\n",
       "      <td>5</td>\n",
       "      <td>1385</td>\n",
       "      <td>0</td>\n",
       "      <td>31</td>\n",
       "      <td>1546292099</td>\n",
       "      <td>area:7572</td>\n",
       "      <td>281474976694272,281474976694272,28147497669427...</td>\n",
       "      <td>84</td>\n",
       "      <td>2019-02-18</td>\n",
       "      <td>20181231</td>\n",
       "      <td>13</td>\n",
       "      <td>24175</td>\n",
       "      <td>30</td>\n",
       "    </tr>\n",
       "  </tbody>\n",
       "</table>\n",
       "</div>"
      ],
      "text/plain": [
       "    ad_id  next_day  label  account_id  altered  bid   create_ts       crow  \\\n",
       "0   10003  20190222      2        6539        0   31  1547593423  area:7572   \n",
       "1  100046  20190309      2       22818        0  150  1546206412  area:3269   \n",
       "2  100046  20190310      1       22818        0  150  1546206412  area:3269   \n",
       "3  100046  20190313      1       22818        0  150  1546206412  area:3269   \n",
       "4  100091  20190219      5        1385        0   31  1546292099  area:7572   \n",
       "\n",
       "                                       exposure_time  industry_id     op_date  \\\n",
       "0  281474976694272,281474976694272,28147497669427...          186  2019-02-21   \n",
       "1  281474976694272,281474976694272,28147497669427...           17  2019-03-08   \n",
       "2  281474976694272,281474976694272,28147497669427...           17  2019-03-09   \n",
       "3  281474976694272,281474976694272,28147497669427...           17  2019-03-12   \n",
       "4  281474976694272,281474976694272,28147497669427...           84  2019-02-18   \n",
       "\n",
       "     op_day  product_class  product_id  sizes  \n",
       "0  20190115             13        9446     30  \n",
       "1  20181230             13       20433     34  \n",
       "2  20181230             13       20433     34  \n",
       "3  20181230             13       20433     34  \n",
       "4  20181231             13       24175     30  "
      ]
     },
     "execution_count": 3,
     "metadata": {},
     "output_type": "execute_result"
    }
   ],
   "source": [
    "ds = pd.read_csv(DATA_DIR + 'dataset.tsv', sep='\\t')\n",
    "ds.head()"
   ]
  },
  {
   "cell_type": "code",
   "execution_count": 4,
   "metadata": {},
   "outputs": [
    {
     "data": {
      "text/plain": [
       "<seaborn.axisgrid.PairGrid at 0x108e39d10>"
      ]
     },
     "execution_count": 4,
     "metadata": {},
     "output_type": "execute_result"
    },
    {
     "data": {
      "image/png": "[encoded data removed]",
      "text/plain": [
       "<matplotlib.figure.Figure at 0x108ecaf10>"
      ]
     },
     "metadata": {},
     "output_type": "display_data"
    }
   ],
   "source": [
    "%matplotlib inline\n",
    "sns.pairplot(ds[['bid', 'label']])"
   ]
  },
  {
   "cell_type": "code",
   "execution_count": 5,
   "metadata": {},
   "outputs": [
    {
     "data": {
      "image/png": "[encoded data removed]",
      "text/plain": [
       "<matplotlib.figure.Figure at 0x10a0dde10>"
      ]
     },
     "metadata": {},
     "output_type": "display_data"
    }
   ],
   "source": [
    "with sns.axes_style(\"white\"):\n",
    "    sns.jointplot(x=ds.bid, y=ds.label, kind=\"hex\", color=\"k\")"
   ]
  },
  {
   "cell_type": "code",
   "execution_count": 10,
   "metadata": {},
   "outputs": [
    {
     "data": {
      "text/plain": [
       "<matplotlib.axes._subplots.AxesSubplot at 0x10ab4d810>"
      ]
     },
     "execution_count": 10,
     "metadata": {},
     "output_type": "execute_result"
    },
    {
     "data": {
      "image/png": "[encoded data removed]",
      "text/plain": [
       "<matplotlib.figure.Figure at 0x10ab40bd0>"
      ]
     },
     "metadata": {},
     "output_type": "display_data"
    }
   ],
   "source": [
    "sns.regplot(x=\"bid\", y=\"label\", data=ds[ds.ad_id == 139352])"
   ]
  },
  {
   "cell_type": "code",
   "execution_count": 7,
   "metadata": {},
   "outputs": [
    {
     "data": {
      "text/plain": [
       "1929.0"
      ]
     },
     "execution_count": 7,
     "metadata": {},
     "output_type": "execute_result"
    }
   ],
   "source": [
    "(ds.label / ds.bid).max()"
   ]
  },
  {
   "cell_type": "code",
   "execution_count": 8,
   "metadata": {},
   "outputs": [
    {
     "data": {
      "text/plain": [
       "10000.0"
      ]
     },
     "execution_count": 8,
     "metadata": {},
     "output_type": "execute_result"
    }
   ],
   "source": [
    "(ds.bid / ds.label).max()"
   ]
  },
  {
   "cell_type": "code",
   "execution_count": 9,
   "metadata": {},
   "outputs": [
    {
     "data": {
      "text/plain": [
       "139352    29\n",
       "535585    29\n",
       "530575    29\n",
       "404974    29\n",
       "203837    29\n",
       "22225     29\n",
       "283592    29\n",
       "604990    29\n",
       "73646     29\n",
       "466081    29\n",
       "208452    29\n",
       "577497    29\n",
       "227645    29\n",
       "608282    29\n",
       "387479    29\n",
       "681061    29\n",
       "411599    29\n",
       "694820    29\n",
       "351195    29\n",
       "42441     29\n",
       "474902    29\n",
       "733563    29\n",
       "71677     29\n",
       "613814    29\n",
       "188816    28\n",
       "318638    28\n",
       "581722    28\n",
       "79315     28\n",
       "627399    28\n",
       "411983    28\n",
       "          ..\n",
       "510740     1\n",
       "181013     1\n",
       "92960      1\n",
       "399455     1\n",
       "690748     1\n",
       "377109     1\n",
       "338105     1\n",
       "153894     1\n",
       "49461      1\n",
       "368953     1\n",
       "506170     1\n",
       "401737     1\n",
       "203086     1\n",
       "448711     1\n",
       "508100     1\n",
       "532905     1\n",
       "340395     1\n",
       "512439     1\n",
       "563311     1\n",
       "106937     1\n",
       "35260      1\n",
       "270488     1\n",
       "551057     1\n",
       "506330     1\n",
       "641713     1\n",
       "235998     1\n",
       "369145     1\n",
       "79995      1\n",
       "129554     1\n",
       "198655     1\n",
       "Name: ad_id, Length: 14091, dtype: int64"
      ]
     },
     "execution_count": 9,
     "metadata": {},
     "output_type": "execute_result"
    }
   ],
   "source": [
    "ds.ad_id.value_counts()"
   ]
  },
  {
   "cell_type": "code",
   "execution_count": null,
   "metadata": {},
   "outputs": [],
   "source": []
  }
 ],
 "metadata": {
  "kernelspec": {
   "display_name": "Python 2",
   "language": "python",
   "name": "python2"
  },
  "language_info": {
   "codemirror_mode": {
    "name": "ipython",
    "version": 2
   },
   "file_extension": ".py",
   "mimetype": "text/x-python",
   "name": "python",
   "nbconvert_exporter": "python",
   "pygments_lexer": "ipython2",
   "version": "2.7.14"
  }
 },
 "nbformat": 4,
 "nbformat_minor": 2
}
