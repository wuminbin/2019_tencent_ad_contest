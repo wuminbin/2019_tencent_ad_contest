{
 "cells": [
  {
   "cell_type": "code",
   "execution_count": 1,
   "metadata": {},
   "outputs": [],
   "source": [
    "import pandas as pd\n",
    "from constants import DATA_DIR, HEADER_USER"
   ]
  },
  {
   "cell_type": "code",
   "execution_count": 2,
   "metadata": {},
   "outputs": [
    {
     "data": {
      "text/html": [
       "<div>\n",
       "<style scoped>\n",
       "    .dataframe tbody tr th:only-of-type {\n",
       "        vertical-align: middle;\n",
       "    }\n",
       "\n",
       "    .dataframe tbody tr th {\n",
       "        vertical-align: top;\n",
       "    }\n",
       "\n",
       "    .dataframe thead th {\n",
       "        text-align: right;\n",
       "    }\n",
       "</style>\n",
       "<table border=\"1\" class=\"dataframe\">\n",
       "  <thead>\n",
       "    <tr style=\"text-align: right;\">\n",
       "      <th></th>\n",
       "      <th>uid</th>\n",
       "      <th>age</th>\n",
       "      <th>gender</th>\n",
       "      <th>area</th>\n",
       "      <th>status</th>\n",
       "      <th>education</th>\n",
       "      <th>consuptionAbility</th>\n",
       "      <th>os</th>\n",
       "      <th>work</th>\n",
       "      <th>connectionType</th>\n",
       "      <th>behavior</th>\n",
       "    </tr>\n",
       "  </thead>\n",
       "  <tbody>\n",
       "    <tr>\n",
       "      <th>0</th>\n",
       "      <td>624218</td>\n",
       "      <td>753</td>\n",
       "      <td>2</td>\n",
       "      <td>523,7589,12527,9019,14605,13489,302,6222,14214...</td>\n",
       "      <td>0</td>\n",
       "      <td>6</td>\n",
       "      <td>1</td>\n",
       "      <td>2</td>\n",
       "      <td>0</td>\n",
       "      <td>4</td>\n",
       "      <td>32612,34406,3413,33059,4275,4667,4561,34051,42...</td>\n",
       "    </tr>\n",
       "    <tr>\n",
       "      <th>1</th>\n",
       "      <td>271475</td>\n",
       "      <td>601</td>\n",
       "      <td>3</td>\n",
       "      <td>9019,9032,663,12527,14532,2416,2599,1987,9687,...</td>\n",
       "      <td>13</td>\n",
       "      <td>7</td>\n",
       "      <td>2</td>\n",
       "      <td>2</td>\n",
       "      <td>0</td>\n",
       "      <td>2</td>\n",
       "      <td>4990,4992,3413,33061,4115,4876,2393,34167,3441...</td>\n",
       "    </tr>\n",
       "    <tr>\n",
       "      <th>2</th>\n",
       "      <td>44439</td>\n",
       "      <td>819</td>\n",
       "      <td>3</td>\n",
       "      <td>12527,14188,9841,9019,14605,6222,9962,6643,172...</td>\n",
       "      <td>13</td>\n",
       "      <td>7</td>\n",
       "      <td>3</td>\n",
       "      <td>2</td>\n",
       "      <td>4</td>\n",
       "      <td>4</td>\n",
       "      <td>3099,4403,34414,431,34415,5108,31686,3240,3229...</td>\n",
       "    </tr>\n",
       "    <tr>\n",
       "      <th>3</th>\n",
       "      <td>863717</td>\n",
       "      <td>1</td>\n",
       "      <td>2</td>\n",
       "      <td>12527,3435,2398,11069,1292,9019,14605,14348,62...</td>\n",
       "      <td>6</td>\n",
       "      <td>5</td>\n",
       "      <td>3</td>\n",
       "      <td>2</td>\n",
       "      <td>0</td>\n",
       "      <td>2</td>\n",
       "      <td>34293,845,3413,3099,33061,33059,4120,4410,4415...</td>\n",
       "    </tr>\n",
       "    <tr>\n",
       "      <th>4</th>\n",
       "      <td>1305469</td>\n",
       "      <td>714</td>\n",
       "      <td>3</td>\n",
       "      <td>8928,9019,1540,719,12527,6051,10545,12118,7107...</td>\n",
       "      <td>13</td>\n",
       "      <td>5</td>\n",
       "      <td>3</td>\n",
       "      <td>2</td>\n",
       "      <td>0</td>\n",
       "      <td>2</td>\n",
       "      <td>32612,34289,34406,3413,4275,4410,4561,34051,34...</td>\n",
       "    </tr>\n",
       "  </tbody>\n",
       "</table>\n",
       "</div>"
      ],
      "text/plain": [
       "       uid  age  gender                                               area  \\\n",
       "0   624218  753       2  523,7589,12527,9019,14605,13489,302,6222,14214...   \n",
       "1   271475  601       3  9019,9032,663,12527,14532,2416,2599,1987,9687,...   \n",
       "2    44439  819       3  12527,14188,9841,9019,14605,6222,9962,6643,172...   \n",
       "3   863717    1       2  12527,3435,2398,11069,1292,9019,14605,14348,62...   \n",
       "4  1305469  714       3  8928,9019,1540,719,12527,6051,10545,12118,7107...   \n",
       "\n",
       "  status  education  consuptionAbility  os work  connectionType  \\\n",
       "0      0          6                  1   2    0               4   \n",
       "1     13          7                  2   2    0               2   \n",
       "2     13          7                  3   2    4               4   \n",
       "3      6          5                  3   2    0               2   \n",
       "4     13          5                  3   2    0               2   \n",
       "\n",
       "                                            behavior  \n",
       "0  32612,34406,3413,33059,4275,4667,4561,34051,42...  \n",
       "1  4990,4992,3413,33061,4115,4876,2393,34167,3441...  \n",
       "2  3099,4403,34414,431,34415,5108,31686,3240,3229...  \n",
       "3  34293,845,3413,3099,33061,33059,4120,4410,4415...  \n",
       "4  32612,34289,34406,3413,4275,4410,4561,34051,34...  "
      ]
     },
     "execution_count": 2,
     "metadata": {},
     "output_type": "execute_result"
    }
   ],
   "source": [
    "user = pd.read_csv(DATA_DIR + 'user_data', sep='\\t', header=None, names=HEADER_USER,\n",
    "                   index_col=False, quotechar='\\t')\n",
    "user.head()"
   ]
  },
  {
   "cell_type": "code",
   "execution_count": 3,
   "metadata": {},
   "outputs": [
    {
     "data": {
      "text/html": [
       "<div>\n",
       "<style scoped>\n",
       "    .dataframe tbody tr th:only-of-type {\n",
       "        vertical-align: middle;\n",
       "    }\n",
       "\n",
       "    .dataframe tbody tr th {\n",
       "        vertical-align: top;\n",
       "    }\n",
       "\n",
       "    .dataframe thead th {\n",
       "        text-align: right;\n",
       "    }\n",
       "</style>\n",
       "<table border=\"1\" class=\"dataframe\">\n",
       "  <thead>\n",
       "    <tr style=\"text-align: right;\">\n",
       "      <th></th>\n",
       "      <th>uid</th>\n",
       "      <th>age</th>\n",
       "      <th>gender</th>\n",
       "      <th>education</th>\n",
       "      <th>consuptionAbility</th>\n",
       "      <th>os</th>\n",
       "      <th>connectionType</th>\n",
       "    </tr>\n",
       "  </thead>\n",
       "  <tbody>\n",
       "    <tr>\n",
       "      <th>count</th>\n",
       "      <td>1.396718e+06</td>\n",
       "      <td>1.396718e+06</td>\n",
       "      <td>1.396718e+06</td>\n",
       "      <td>1.396718e+06</td>\n",
       "      <td>1.396718e+06</td>\n",
       "      <td>1.396718e+06</td>\n",
       "      <td>1.396718e+06</td>\n",
       "    </tr>\n",
       "    <tr>\n",
       "      <th>mean</th>\n",
       "      <td>6.983595e+05</td>\n",
       "      <td>5.263470e+02</td>\n",
       "      <td>2.499745e+00</td>\n",
       "      <td>4.779004e+00</td>\n",
       "      <td>2.161956e+00</td>\n",
       "      <td>2.186646e+00</td>\n",
       "      <td>2.817688e+00</td>\n",
       "    </tr>\n",
       "    <tr>\n",
       "      <th>std</th>\n",
       "      <td>4.031979e+05</td>\n",
       "      <td>2.806423e+02</td>\n",
       "      <td>5.654588e-01</td>\n",
       "      <td>2.086811e+00</td>\n",
       "      <td>8.310177e-01</td>\n",
       "      <td>3.951378e-01</td>\n",
       "      <td>1.025974e+00</td>\n",
       "    </tr>\n",
       "    <tr>\n",
       "      <th>min</th>\n",
       "      <td>1.000000e+00</td>\n",
       "      <td>0.000000e+00</td>\n",
       "      <td>1.000000e+00</td>\n",
       "      <td>1.000000e+00</td>\n",
       "      <td>1.000000e+00</td>\n",
       "      <td>0.000000e+00</td>\n",
       "      <td>1.000000e+00</td>\n",
       "    </tr>\n",
       "    <tr>\n",
       "      <th>25%</th>\n",
       "      <td>3.491802e+05</td>\n",
       "      <td>3.330000e+02</td>\n",
       "      <td>2.000000e+00</td>\n",
       "      <td>2.000000e+00</td>\n",
       "      <td>1.000000e+00</td>\n",
       "      <td>2.000000e+00</td>\n",
       "      <td>2.000000e+00</td>\n",
       "    </tr>\n",
       "    <tr>\n",
       "      <th>50%</th>\n",
       "      <td>6.983595e+05</td>\n",
       "      <td>5.360000e+02</td>\n",
       "      <td>3.000000e+00</td>\n",
       "      <td>5.000000e+00</td>\n",
       "      <td>2.000000e+00</td>\n",
       "      <td>2.000000e+00</td>\n",
       "      <td>2.000000e+00</td>\n",
       "    </tr>\n",
       "    <tr>\n",
       "      <th>75%</th>\n",
       "      <td>1.047539e+06</td>\n",
       "      <td>7.870000e+02</td>\n",
       "      <td>3.000000e+00</td>\n",
       "      <td>6.000000e+00</td>\n",
       "      <td>3.000000e+00</td>\n",
       "      <td>2.000000e+00</td>\n",
       "      <td>4.000000e+00</td>\n",
       "    </tr>\n",
       "    <tr>\n",
       "      <th>max</th>\n",
       "      <td>1.396718e+06</td>\n",
       "      <td>9.880000e+02</td>\n",
       "      <td>3.000000e+00</td>\n",
       "      <td>8.000000e+00</td>\n",
       "      <td>3.000000e+00</td>\n",
       "      <td>4.000000e+00</td>\n",
       "      <td>5.000000e+00</td>\n",
       "    </tr>\n",
       "  </tbody>\n",
       "</table>\n",
       "</div>"
      ],
      "text/plain": [
       "                uid           age        gender     education  \\\n",
       "count  1.396718e+06  1.396718e+06  1.396718e+06  1.396718e+06   \n",
       "mean   6.983595e+05  5.263470e+02  2.499745e+00  4.779004e+00   \n",
       "std    4.031979e+05  2.806423e+02  5.654588e-01  2.086811e+00   \n",
       "min    1.000000e+00  0.000000e+00  1.000000e+00  1.000000e+00   \n",
       "25%    3.491802e+05  3.330000e+02  2.000000e+00  2.000000e+00   \n",
       "50%    6.983595e+05  5.360000e+02  3.000000e+00  5.000000e+00   \n",
       "75%    1.047539e+06  7.870000e+02  3.000000e+00  6.000000e+00   \n",
       "max    1.396718e+06  9.880000e+02  3.000000e+00  8.000000e+00   \n",
       "\n",
       "       consuptionAbility            os  connectionType  \n",
       "count       1.396718e+06  1.396718e+06    1.396718e+06  \n",
       "mean        2.161956e+00  2.186646e+00    2.817688e+00  \n",
       "std         8.310177e-01  3.951378e-01    1.025974e+00  \n",
       "min         1.000000e+00  0.000000e+00    1.000000e+00  \n",
       "25%         1.000000e+00  2.000000e+00    2.000000e+00  \n",
       "50%         2.000000e+00  2.000000e+00    2.000000e+00  \n",
       "75%         3.000000e+00  2.000000e+00    4.000000e+00  \n",
       "max         3.000000e+00  4.000000e+00    5.000000e+00  "
      ]
     },
     "execution_count": 3,
     "metadata": {},
     "output_type": "execute_result"
    }
   ],
   "source": [
    "user.describe()"
   ]
  },
  {
   "cell_type": "code",
   "execution_count": 4,
   "metadata": {
    "collapsed": true
   },
   "outputs": [
    {
     "data": {
      "text/plain": [
       "uid                   int64\n",
       "age                   int64\n",
       "gender                int64\n",
       "area                 object\n",
       "status               object\n",
       "education             int64\n",
       "consuptionAbility     int64\n",
       "os                    int64\n",
       "work                 object\n",
       "connectionType        int64\n",
       "behavior             object\n",
       "dtype: object"
      ]
     },
     "execution_count": 4,
     "metadata": {},
     "output_type": "execute_result"
    }
   ],
   "source": [
    "user.dtypes"
   ]
  },
  {
   "cell_type": "code",
   "execution_count": 5,
   "metadata": {},
   "outputs": [
    {
     "data": {
      "text/plain": [
       "count    1.396718e+06\n",
       "mean     5.263470e+02\n",
       "std      2.806423e+02\n",
       "min      0.000000e+00\n",
       "25%      3.330000e+02\n",
       "50%      5.360000e+02\n",
       "75%      7.870000e+02\n",
       "max      9.880000e+02\n",
       "Name: age, dtype: float64"
      ]
     },
     "execution_count": 5,
     "metadata": {},
     "output_type": "execute_result"
    }
   ],
   "source": [
    "user.age.describe()"
   ]
  },
  {
   "cell_type": "code",
   "execution_count": 6,
   "metadata": {},
   "outputs": [],
   "source": [
    "from collections import defaultdict\n",
    "user_single_split = {'age': defaultdict(set), 'gender': defaultdict(set), 'education': defaultdict(set),\n",
    "                     'consuptionAbility': defaultdict(set), 'os': defaultdict(set), 'connectionType': defaultdict(set)}\n",
    "user_multi_split = {'area': defaultdict(set), 'status': defaultdict(set), 'work': defaultdict(set), 'behavior': defaultdict(set)}"
   ]
  },
  {
   "cell_type": "code",
   "execution_count": 7,
   "metadata": {},
   "outputs": [
    {
     "name": "stdout",
     "output_type": "stream",
     "text": [
      "('gender', 3, 1, 2.4997451167665914, 0.5654588072037766, 0.22620658538787144)\n",
      "('age', 988, 0, 526.3470013273975, 280.64230816255355, 0.5331887660702922)\n",
      "('connectionType', 5, 1, 2.8176883236272463, 1.0259741993473175, 0.3641191223117849)\n",
      "('consuptionAbility', 3, 1, 2.161956099942866, 0.8310177086300798, 0.38438232332841593)\n",
      "('education', 8, 1, 4.77900406524438, 2.0868111611559703, 0.4366623532154829)\n",
      "('os', 4, 0, 2.186646123268978, 0.3951378026996519, 0.18070496112509113)\n"
     ]
    }
   ],
   "source": [
    "# age, os 有零值\n",
    "for col in user_single_split:\n",
    "    print(col, user[col].max(), user[col].min(), user[col].mean(), user[col].std(), user[col].std() / user[col].mean())"
   ]
  },
  {
   "cell_type": "code",
   "execution_count": null,
   "metadata": {},
   "outputs": [],
   "source": []
  }
 ],
 "metadata": {
  "kernelspec": {
   "display_name": "Python 2",
   "language": "python",
   "name": "python2"
  },
  "language_info": {
   "codemirror_mode": {
    "name": "ipython",
    "version": 2
   },
   "file_extension": ".py",
   "mimetype": "text/x-python",
   "name": "python",
   "nbconvert_exporter": "python",
   "pygments_lexer": "ipython2",
   "version": "2.7.14"
  }
 },
 "nbformat": 4,
 "nbformat_minor": 2
}
